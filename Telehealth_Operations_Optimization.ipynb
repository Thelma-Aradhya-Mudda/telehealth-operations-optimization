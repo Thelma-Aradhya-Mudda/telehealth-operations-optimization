{
  "nbformat": 4,
  "nbformat_minor": 0,
  "metadata": {
    "colab": {
      "provenance": []
    },
    "kernelspec": {
      "name": "python3",
      "display_name": "Python 3"
    },
    "language_info": {
      "name": "python"
    }
  },
  "cells": [
    {
      "cell_type": "markdown",
      "source": [
        "#**Telehealth Operations Optimization**"
      ],
      "metadata": {
        "id": "2HLzyFvD8--r"
      }
    },
    {
      "cell_type": "markdown",
      "source": [
        "\n",
        "\n",
        "This project focuses on optimizing operational processes in telehealth services using data science techniques. It includes data cleaning, automation of monthly reports, dashboard development using Tableau and Streamlit, and forecasting appointment trends for better planning."
      ],
      "metadata": {
        "id": "Ruj8_BEqSkev"
      }
    },
    {
      "cell_type": "markdown",
      "source": [
        "##DataCleaning"
      ],
      "metadata": {
        "id": "WRmfOhN1TKNs"
      }
    },
    {
      "cell_type": "code",
      "execution_count": 69,
      "metadata": {
        "id": "y1tdlObHsUQN"
      },
      "outputs": [],
      "source": [
        "import pandas as pd\n",
        "\n",
        "# Load your dataset\n",
        "df = pd.read_csv('telehealth_operations_dataset.csv')"
      ]
    },
    {
      "cell_type": "code",
      "source": [
        "# Preview first 5 rows\n",
        "df.head()"
      ],
      "metadata": {
        "colab": {
          "base_uri": "https://localhost:8080/",
          "height": 313
        },
        "id": "Pa8exORq-9fE",
        "outputId": "dd952287-55c6-4fab-f993-cff12bfa6ae3"
      },
      "execution_count": 70,
      "outputs": [
        {
          "output_type": "execute_result",
          "data": {
            "text/plain": [
              "   Patient_ID Gender         ScheduledDay       AppointmentDay  Age  \\\n",
              "0           1      M  2022-01-01 00:00:00  2022-01-02 00:00:00   76   \n",
              "1           2      F  2022-01-01 00:01:00  2022-01-02 00:01:00   23   \n",
              "2           3      M  2022-01-01 00:02:00  2022-01-02 00:02:00   70   \n",
              "3           4      M  2022-01-01 00:03:00  2022-01-02 00:03:00   18   \n",
              "4           5      M  2022-01-01 00:04:00  2022-01-02 00:04:00   90   \n",
              "\n",
              "    Neighbourhood  Scholarship  Hipertension  Diabetes  Alcoholism  \\\n",
              "0  Neighborhood_C            0             0         1           0   \n",
              "1  Neighborhood_C            1             1         0           0   \n",
              "2  Neighborhood_C            1             1         1           1   \n",
              "3  Neighborhood_A            0             0         0           1   \n",
              "4  Neighborhood_A            1             0         0           0   \n",
              "\n",
              "   SMS_received No_show Follow_Up_Sent Reminder_Method Follow_Up_Completed  \n",
              "0             0     Yes            Yes             SMS                 Yes  \n",
              "1             0     Yes            Yes             SMS                 Yes  \n",
              "2             0     Yes            Yes           Email                  No  \n",
              "3             0      No             No             NaN                 NaN  \n",
              "4             1      No             No             NaN                 NaN  "
            ],
            "text/html": [
              "\n",
              "  <div id=\"df-fd4693f1-b312-4d5b-ac08-c556d1867617\" class=\"colab-df-container\">\n",
              "    <div>\n",
              "<style scoped>\n",
              "    .dataframe tbody tr th:only-of-type {\n",
              "        vertical-align: middle;\n",
              "    }\n",
              "\n",
              "    .dataframe tbody tr th {\n",
              "        vertical-align: top;\n",
              "    }\n",
              "\n",
              "    .dataframe thead th {\n",
              "        text-align: right;\n",
              "    }\n",
              "</style>\n",
              "<table border=\"1\" class=\"dataframe\">\n",
              "  <thead>\n",
              "    <tr style=\"text-align: right;\">\n",
              "      <th></th>\n",
              "      <th>Patient_ID</th>\n",
              "      <th>Gender</th>\n",
              "      <th>ScheduledDay</th>\n",
              "      <th>AppointmentDay</th>\n",
              "      <th>Age</th>\n",
              "      <th>Neighbourhood</th>\n",
              "      <th>Scholarship</th>\n",
              "      <th>Hipertension</th>\n",
              "      <th>Diabetes</th>\n",
              "      <th>Alcoholism</th>\n",
              "      <th>SMS_received</th>\n",
              "      <th>No_show</th>\n",
              "      <th>Follow_Up_Sent</th>\n",
              "      <th>Reminder_Method</th>\n",
              "      <th>Follow_Up_Completed</th>\n",
              "    </tr>\n",
              "  </thead>\n",
              "  <tbody>\n",
              "    <tr>\n",
              "      <th>0</th>\n",
              "      <td>1</td>\n",
              "      <td>M</td>\n",
              "      <td>2022-01-01 00:00:00</td>\n",
              "      <td>2022-01-02 00:00:00</td>\n",
              "      <td>76</td>\n",
              "      <td>Neighborhood_C</td>\n",
              "      <td>0</td>\n",
              "      <td>0</td>\n",
              "      <td>1</td>\n",
              "      <td>0</td>\n",
              "      <td>0</td>\n",
              "      <td>Yes</td>\n",
              "      <td>Yes</td>\n",
              "      <td>SMS</td>\n",
              "      <td>Yes</td>\n",
              "    </tr>\n",
              "    <tr>\n",
              "      <th>1</th>\n",
              "      <td>2</td>\n",
              "      <td>F</td>\n",
              "      <td>2022-01-01 00:01:00</td>\n",
              "      <td>2022-01-02 00:01:00</td>\n",
              "      <td>23</td>\n",
              "      <td>Neighborhood_C</td>\n",
              "      <td>1</td>\n",
              "      <td>1</td>\n",
              "      <td>0</td>\n",
              "      <td>0</td>\n",
              "      <td>0</td>\n",
              "      <td>Yes</td>\n",
              "      <td>Yes</td>\n",
              "      <td>SMS</td>\n",
              "      <td>Yes</td>\n",
              "    </tr>\n",
              "    <tr>\n",
              "      <th>2</th>\n",
              "      <td>3</td>\n",
              "      <td>M</td>\n",
              "      <td>2022-01-01 00:02:00</td>\n",
              "      <td>2022-01-02 00:02:00</td>\n",
              "      <td>70</td>\n",
              "      <td>Neighborhood_C</td>\n",
              "      <td>1</td>\n",
              "      <td>1</td>\n",
              "      <td>1</td>\n",
              "      <td>1</td>\n",
              "      <td>0</td>\n",
              "      <td>Yes</td>\n",
              "      <td>Yes</td>\n",
              "      <td>Email</td>\n",
              "      <td>No</td>\n",
              "    </tr>\n",
              "    <tr>\n",
              "      <th>3</th>\n",
              "      <td>4</td>\n",
              "      <td>M</td>\n",
              "      <td>2022-01-01 00:03:00</td>\n",
              "      <td>2022-01-02 00:03:00</td>\n",
              "      <td>18</td>\n",
              "      <td>Neighborhood_A</td>\n",
              "      <td>0</td>\n",
              "      <td>0</td>\n",
              "      <td>0</td>\n",
              "      <td>1</td>\n",
              "      <td>0</td>\n",
              "      <td>No</td>\n",
              "      <td>No</td>\n",
              "      <td>NaN</td>\n",
              "      <td>NaN</td>\n",
              "    </tr>\n",
              "    <tr>\n",
              "      <th>4</th>\n",
              "      <td>5</td>\n",
              "      <td>M</td>\n",
              "      <td>2022-01-01 00:04:00</td>\n",
              "      <td>2022-01-02 00:04:00</td>\n",
              "      <td>90</td>\n",
              "      <td>Neighborhood_A</td>\n",
              "      <td>1</td>\n",
              "      <td>0</td>\n",
              "      <td>0</td>\n",
              "      <td>0</td>\n",
              "      <td>1</td>\n",
              "      <td>No</td>\n",
              "      <td>No</td>\n",
              "      <td>NaN</td>\n",
              "      <td>NaN</td>\n",
              "    </tr>\n",
              "  </tbody>\n",
              "</table>\n",
              "</div>\n",
              "    <div class=\"colab-df-buttons\">\n",
              "\n",
              "  <div class=\"colab-df-container\">\n",
              "    <button class=\"colab-df-convert\" onclick=\"convertToInteractive('df-fd4693f1-b312-4d5b-ac08-c556d1867617')\"\n",
              "            title=\"Convert this dataframe to an interactive table.\"\n",
              "            style=\"display:none;\">\n",
              "\n",
              "  <svg xmlns=\"http://www.w3.org/2000/svg\" height=\"24px\" viewBox=\"0 -960 960 960\">\n",
              "    <path d=\"M120-120v-720h720v720H120Zm60-500h600v-160H180v160Zm220 220h160v-160H400v160Zm0 220h160v-160H400v160ZM180-400h160v-160H180v160Zm440 0h160v-160H620v160ZM180-180h160v-160H180v160Zm440 0h160v-160H620v160Z\"/>\n",
              "  </svg>\n",
              "    </button>\n",
              "\n",
              "  <style>\n",
              "    .colab-df-container {\n",
              "      display:flex;\n",
              "      gap: 12px;\n",
              "    }\n",
              "\n",
              "    .colab-df-convert {\n",
              "      background-color: #E8F0FE;\n",
              "      border: none;\n",
              "      border-radius: 50%;\n",
              "      cursor: pointer;\n",
              "      display: none;\n",
              "      fill: #1967D2;\n",
              "      height: 32px;\n",
              "      padding: 0 0 0 0;\n",
              "      width: 32px;\n",
              "    }\n",
              "\n",
              "    .colab-df-convert:hover {\n",
              "      background-color: #E2EBFA;\n",
              "      box-shadow: 0px 1px 2px rgba(60, 64, 67, 0.3), 0px 1px 3px 1px rgba(60, 64, 67, 0.15);\n",
              "      fill: #174EA6;\n",
              "    }\n",
              "\n",
              "    .colab-df-buttons div {\n",
              "      margin-bottom: 4px;\n",
              "    }\n",
              "\n",
              "    [theme=dark] .colab-df-convert {\n",
              "      background-color: #3B4455;\n",
              "      fill: #D2E3FC;\n",
              "    }\n",
              "\n",
              "    [theme=dark] .colab-df-convert:hover {\n",
              "      background-color: #434B5C;\n",
              "      box-shadow: 0px 1px 3px 1px rgba(0, 0, 0, 0.15);\n",
              "      filter: drop-shadow(0px 1px 2px rgba(0, 0, 0, 0.3));\n",
              "      fill: #FFFFFF;\n",
              "    }\n",
              "  </style>\n",
              "\n",
              "    <script>\n",
              "      const buttonEl =\n",
              "        document.querySelector('#df-fd4693f1-b312-4d5b-ac08-c556d1867617 button.colab-df-convert');\n",
              "      buttonEl.style.display =\n",
              "        google.colab.kernel.accessAllowed ? 'block' : 'none';\n",
              "\n",
              "      async function convertToInteractive(key) {\n",
              "        const element = document.querySelector('#df-fd4693f1-b312-4d5b-ac08-c556d1867617');\n",
              "        const dataTable =\n",
              "          await google.colab.kernel.invokeFunction('convertToInteractive',\n",
              "                                                    [key], {});\n",
              "        if (!dataTable) return;\n",
              "\n",
              "        const docLinkHtml = 'Like what you see? Visit the ' +\n",
              "          '<a target=\"_blank\" href=https://colab.research.google.com/notebooks/data_table.ipynb>data table notebook</a>'\n",
              "          + ' to learn more about interactive tables.';\n",
              "        element.innerHTML = '';\n",
              "        dataTable['output_type'] = 'display_data';\n",
              "        await google.colab.output.renderOutput(dataTable, element);\n",
              "        const docLink = document.createElement('div');\n",
              "        docLink.innerHTML = docLinkHtml;\n",
              "        element.appendChild(docLink);\n",
              "      }\n",
              "    </script>\n",
              "  </div>\n",
              "\n",
              "\n",
              "<div id=\"df-beaba475-b7c8-42e8-8e76-0283a11de67b\">\n",
              "  <button class=\"colab-df-quickchart\" onclick=\"quickchart('df-beaba475-b7c8-42e8-8e76-0283a11de67b')\"\n",
              "            title=\"Suggest charts\"\n",
              "            style=\"display:none;\">\n",
              "\n",
              "<svg xmlns=\"http://www.w3.org/2000/svg\" height=\"24px\"viewBox=\"0 0 24 24\"\n",
              "     width=\"24px\">\n",
              "    <g>\n",
              "        <path d=\"M19 3H5c-1.1 0-2 .9-2 2v14c0 1.1.9 2 2 2h14c1.1 0 2-.9 2-2V5c0-1.1-.9-2-2-2zM9 17H7v-7h2v7zm4 0h-2V7h2v10zm4 0h-2v-4h2v4z\"/>\n",
              "    </g>\n",
              "</svg>\n",
              "  </button>\n",
              "\n",
              "<style>\n",
              "  .colab-df-quickchart {\n",
              "      --bg-color: #E8F0FE;\n",
              "      --fill-color: #1967D2;\n",
              "      --hover-bg-color: #E2EBFA;\n",
              "      --hover-fill-color: #174EA6;\n",
              "      --disabled-fill-color: #AAA;\n",
              "      --disabled-bg-color: #DDD;\n",
              "  }\n",
              "\n",
              "  [theme=dark] .colab-df-quickchart {\n",
              "      --bg-color: #3B4455;\n",
              "      --fill-color: #D2E3FC;\n",
              "      --hover-bg-color: #434B5C;\n",
              "      --hover-fill-color: #FFFFFF;\n",
              "      --disabled-bg-color: #3B4455;\n",
              "      --disabled-fill-color: #666;\n",
              "  }\n",
              "\n",
              "  .colab-df-quickchart {\n",
              "    background-color: var(--bg-color);\n",
              "    border: none;\n",
              "    border-radius: 50%;\n",
              "    cursor: pointer;\n",
              "    display: none;\n",
              "    fill: var(--fill-color);\n",
              "    height: 32px;\n",
              "    padding: 0;\n",
              "    width: 32px;\n",
              "  }\n",
              "\n",
              "  .colab-df-quickchart:hover {\n",
              "    background-color: var(--hover-bg-color);\n",
              "    box-shadow: 0 1px 2px rgba(60, 64, 67, 0.3), 0 1px 3px 1px rgba(60, 64, 67, 0.15);\n",
              "    fill: var(--button-hover-fill-color);\n",
              "  }\n",
              "\n",
              "  .colab-df-quickchart-complete:disabled,\n",
              "  .colab-df-quickchart-complete:disabled:hover {\n",
              "    background-color: var(--disabled-bg-color);\n",
              "    fill: var(--disabled-fill-color);\n",
              "    box-shadow: none;\n",
              "  }\n",
              "\n",
              "  .colab-df-spinner {\n",
              "    border: 2px solid var(--fill-color);\n",
              "    border-color: transparent;\n",
              "    border-bottom-color: var(--fill-color);\n",
              "    animation:\n",
              "      spin 1s steps(1) infinite;\n",
              "  }\n",
              "\n",
              "  @keyframes spin {\n",
              "    0% {\n",
              "      border-color: transparent;\n",
              "      border-bottom-color: var(--fill-color);\n",
              "      border-left-color: var(--fill-color);\n",
              "    }\n",
              "    20% {\n",
              "      border-color: transparent;\n",
              "      border-left-color: var(--fill-color);\n",
              "      border-top-color: var(--fill-color);\n",
              "    }\n",
              "    30% {\n",
              "      border-color: transparent;\n",
              "      border-left-color: var(--fill-color);\n",
              "      border-top-color: var(--fill-color);\n",
              "      border-right-color: var(--fill-color);\n",
              "    }\n",
              "    40% {\n",
              "      border-color: transparent;\n",
              "      border-right-color: var(--fill-color);\n",
              "      border-top-color: var(--fill-color);\n",
              "    }\n",
              "    60% {\n",
              "      border-color: transparent;\n",
              "      border-right-color: var(--fill-color);\n",
              "    }\n",
              "    80% {\n",
              "      border-color: transparent;\n",
              "      border-right-color: var(--fill-color);\n",
              "      border-bottom-color: var(--fill-color);\n",
              "    }\n",
              "    90% {\n",
              "      border-color: transparent;\n",
              "      border-bottom-color: var(--fill-color);\n",
              "    }\n",
              "  }\n",
              "</style>\n",
              "\n",
              "  <script>\n",
              "    async function quickchart(key) {\n",
              "      const quickchartButtonEl =\n",
              "        document.querySelector('#' + key + ' button');\n",
              "      quickchartButtonEl.disabled = true;  // To prevent multiple clicks.\n",
              "      quickchartButtonEl.classList.add('colab-df-spinner');\n",
              "      try {\n",
              "        const charts = await google.colab.kernel.invokeFunction(\n",
              "            'suggestCharts', [key], {});\n",
              "      } catch (error) {\n",
              "        console.error('Error during call to suggestCharts:', error);\n",
              "      }\n",
              "      quickchartButtonEl.classList.remove('colab-df-spinner');\n",
              "      quickchartButtonEl.classList.add('colab-df-quickchart-complete');\n",
              "    }\n",
              "    (() => {\n",
              "      let quickchartButtonEl =\n",
              "        document.querySelector('#df-beaba475-b7c8-42e8-8e76-0283a11de67b button');\n",
              "      quickchartButtonEl.style.display =\n",
              "        google.colab.kernel.accessAllowed ? 'block' : 'none';\n",
              "    })();\n",
              "  </script>\n",
              "</div>\n",
              "\n",
              "    </div>\n",
              "  </div>\n"
            ],
            "application/vnd.google.colaboratory.intrinsic+json": {
              "type": "dataframe",
              "variable_name": "df"
            }
          },
          "metadata": {},
          "execution_count": 70
        }
      ]
    },
    {
      "cell_type": "code",
      "source": [
        "# Shape of the dataset\n",
        "print(f\"Dataset has {df.shape[0]} rows and {df.shape[1]} columns.\")"
      ],
      "metadata": {
        "colab": {
          "base_uri": "https://localhost:8080/"
        },
        "id": "BlWovPeU_UA1",
        "outputId": "bd9a7688-437f-42c5-83d2-eb3b3f602439"
      },
      "execution_count": 71,
      "outputs": [
        {
          "output_type": "stream",
          "name": "stdout",
          "text": [
            "Dataset has 110000 rows and 15 columns.\n"
          ]
        }
      ]
    },
    {
      "cell_type": "code",
      "source": [
        "# Data types of each column\n",
        "print(df.dtypes)"
      ],
      "metadata": {
        "colab": {
          "base_uri": "https://localhost:8080/"
        },
        "id": "y2YQxfOc_aPX",
        "outputId": "769282a8-096c-435f-95ef-44b6e9e842d7"
      },
      "execution_count": 72,
      "outputs": [
        {
          "output_type": "stream",
          "name": "stdout",
          "text": [
            "Patient_ID              int64\n",
            "Gender                 object\n",
            "ScheduledDay           object\n",
            "AppointmentDay         object\n",
            "Age                     int64\n",
            "Neighbourhood          object\n",
            "Scholarship             int64\n",
            "Hipertension            int64\n",
            "Diabetes                int64\n",
            "Alcoholism              int64\n",
            "SMS_received            int64\n",
            "No_show                object\n",
            "Follow_Up_Sent         object\n",
            "Reminder_Method        object\n",
            "Follow_Up_Completed    object\n",
            "dtype: object\n"
          ]
        }
      ]
    },
    {
      "cell_type": "code",
      "source": [
        "# Check for missing values\n",
        "print(df.isnull().sum())"
      ],
      "metadata": {
        "colab": {
          "base_uri": "https://localhost:8080/"
        },
        "id": "3Nj0p18R_g9o",
        "outputId": "b0f6753f-a040-4ec1-d478-387767ba9f46"
      },
      "execution_count": 73,
      "outputs": [
        {
          "output_type": "stream",
          "name": "stdout",
          "text": [
            "Patient_ID                 0\n",
            "Gender                     0\n",
            "ScheduledDay               0\n",
            "AppointmentDay             0\n",
            "Age                        0\n",
            "Neighbourhood              0\n",
            "Scholarship                0\n",
            "Hipertension               0\n",
            "Diabetes                   0\n",
            "Alcoholism                 0\n",
            "SMS_received               0\n",
            "No_show                    0\n",
            "Follow_Up_Sent             0\n",
            "Reminder_Method        32963\n",
            "Follow_Up_Completed    32963\n",
            "dtype: int64\n"
          ]
        }
      ]
    },
    {
      "cell_type": "code",
      "source": [
        "# Convert ScheduledDay and AppointmentDay to datetime\n",
        "df['ScheduledDay'] = pd.to_datetime(df['ScheduledDay'])\n",
        "df['AppointmentDay'] = pd.to_datetime(df['AppointmentDay'])\n",
        "print(df.dtypes)"
      ],
      "metadata": {
        "colab": {
          "base_uri": "https://localhost:8080/"
        },
        "id": "df7piAsM_pPK",
        "outputId": "7c6a304d-4b98-4b49-f568-8b8149f3c7b0"
      },
      "execution_count": 74,
      "outputs": [
        {
          "output_type": "stream",
          "name": "stdout",
          "text": [
            "Patient_ID                      int64\n",
            "Gender                         object\n",
            "ScheduledDay           datetime64[ns]\n",
            "AppointmentDay         datetime64[ns]\n",
            "Age                             int64\n",
            "Neighbourhood                  object\n",
            "Scholarship                     int64\n",
            "Hipertension                    int64\n",
            "Diabetes                        int64\n",
            "Alcoholism                      int64\n",
            "SMS_received                    int64\n",
            "No_show                        object\n",
            "Follow_Up_Sent                 object\n",
            "Reminder_Method                object\n",
            "Follow_Up_Completed            object\n",
            "dtype: object\n"
          ]
        }
      ]
    },
    {
      "cell_type": "markdown",
      "source": [
        "Convert categorical variables to binary"
      ],
      "metadata": {
        "id": "CUZyvVF0CldL"
      }
    },
    {
      "cell_type": "code",
      "source": [
        "# Convert No_show column: Yes -> 1, No -> 0\n",
        "df['No_show'] = df['No_show'].map({'Yes': 1, 'No': 0})\n",
        "\n",
        "# Convert Follow_Up_Sent column: Yes -> 1, No ->0\n",
        "df['Follow_Up_Sent'] = df['Follow_Up_Sent'].map({'Yes': 1, 'No': 0})\n",
        "\n",
        "# Convert Follow_Up_Completed column: Yes -> 1, No -> 0\n",
        "# ( Some NaNs are there, we will fill them first with 'No' because Follow-Up Sent = No means No Follow-Up Completed)\n",
        "df['Follow_Up_Completed'] = df['Follow_Up_Completed'].fillna('No')  # Fill missing/NaNs with 'No'\n",
        "df['Follow_Up_Completed'] = df['Follow_Up_Completed'].map({'Yes': 1, 'No': 0})\n",
        "\n",
        "# Convert Gender column: M -> 1, F -> 0\n",
        "df['Gender'] = df['Gender'].map({'M': 1, 'F': 0})\n",
        "\n",
        "# Check results\n",
        "print(df[['No_show','Follow_Up_Sent', 'Follow_Up_Completed', 'Gender']].head())\n"
      ],
      "metadata": {
        "colab": {
          "base_uri": "https://localhost:8080/"
        },
        "id": "Cx34z__TCq9Q",
        "outputId": "e06cd114-90ca-441e-9ab1-fe30b6041b20"
      },
      "execution_count": 75,
      "outputs": [
        {
          "output_type": "stream",
          "name": "stdout",
          "text": [
            "   No_show  Follow_Up_Sent  Follow_Up_Completed  Gender\n",
            "0        1               1                    1       1\n",
            "1        1               1                    1       0\n",
            "2        1               1                    0       1\n",
            "3        0               0                    0       1\n",
            "4        0               0                    0       1\n"
          ]
        }
      ]
    },
    {
      "cell_type": "markdown",
      "source": [
        "Let us split Reminder_Method into 3 separate columns"
      ],
      "metadata": {
        "id": "gVPZyEcMDbHG"
      }
    },
    {
      "cell_type": "code",
      "source": [
        "# First, fill missing Reminder_Method with 'None' to make it easier\n",
        "df['Reminder_Method'] = df['Reminder_Method'].fillna('None')\n",
        "\n",
        "# Now create 3 new columns\n",
        "df['Reminder_SMS'] = (df['Reminder_Method'] == 'SMS').astype(int)\n",
        "df['Reminder_Email'] = (df['Reminder_Method'] == 'Email').astype(int)\n",
        "df['Reminder_None'] = (df['Reminder_Method'] == 'None').astype(int)\n",
        "\n",
        "# Quick check\n",
        "print(df[['Reminder_SMS', 'Reminder_Email', 'Reminder_None']].head())\n"
      ],
      "metadata": {
        "colab": {
          "base_uri": "https://localhost:8080/"
        },
        "id": "CfiTzeAlDj_q",
        "outputId": "6c6be415-a8b2-489f-e2dd-5b8bc3875bf8"
      },
      "execution_count": 76,
      "outputs": [
        {
          "output_type": "stream",
          "name": "stdout",
          "text": [
            "   Reminder_SMS  Reminder_Email  Reminder_None\n",
            "0             1               0              0\n",
            "1             1               0              0\n",
            "2             0               1              0\n",
            "3             0               0              1\n",
            "4             0               0              1\n"
          ]
        }
      ]
    },
    {
      "cell_type": "code",
      "source": [
        "# Check missing values after cleaning\n",
        "print(df.isnull().sum())\n",
        "\n",
        "# Check data types\n",
        "print(df.dtypes)\n"
      ],
      "metadata": {
        "colab": {
          "base_uri": "https://localhost:8080/"
        },
        "id": "zZ54ZTdkENAI",
        "outputId": "9c347479-ae01-4c57-d18a-76fae688a7b7"
      },
      "execution_count": 77,
      "outputs": [
        {
          "output_type": "stream",
          "name": "stdout",
          "text": [
            "Patient_ID             0\n",
            "Gender                 0\n",
            "ScheduledDay           0\n",
            "AppointmentDay         0\n",
            "Age                    0\n",
            "Neighbourhood          0\n",
            "Scholarship            0\n",
            "Hipertension           0\n",
            "Diabetes               0\n",
            "Alcoholism             0\n",
            "SMS_received           0\n",
            "No_show                0\n",
            "Follow_Up_Sent         0\n",
            "Reminder_Method        0\n",
            "Follow_Up_Completed    0\n",
            "Reminder_SMS           0\n",
            "Reminder_Email         0\n",
            "Reminder_None          0\n",
            "dtype: int64\n",
            "Patient_ID                      int64\n",
            "Gender                          int64\n",
            "ScheduledDay           datetime64[ns]\n",
            "AppointmentDay         datetime64[ns]\n",
            "Age                             int64\n",
            "Neighbourhood                  object\n",
            "Scholarship                     int64\n",
            "Hipertension                    int64\n",
            "Diabetes                        int64\n",
            "Alcoholism                      int64\n",
            "SMS_received                    int64\n",
            "No_show                         int64\n",
            "Follow_Up_Sent                  int64\n",
            "Reminder_Method                object\n",
            "Follow_Up_Completed             int64\n",
            "Reminder_SMS                    int64\n",
            "Reminder_Email                  int64\n",
            "Reminder_None                   int64\n",
            "dtype: object\n"
          ]
        }
      ]
    },
    {
      "cell_type": "markdown",
      "source": [
        "Performed cleaning of patient appointment data, including gender mapping, follow-up reminders, and no-show statuses."
      ],
      "metadata": {
        "id": "QvRtxSTETdH9"
      }
    },
    {
      "cell_type": "markdown",
      "source": [
        "##EDA (Exploratory Data Analysis)"
      ],
      "metadata": {
        "id": "cOu9eSJAFxPp"
      }
    },
    {
      "cell_type": "code",
      "source": [
        "#Check Overall Distributions\n",
        "\n",
        "# Gender Distribution\n",
        "print(df['Gender'].value_counts())\n",
        "\n",
        "# No-show Distribution\n",
        "print(df['No_show'].value_counts())\n",
        "\n",
        "# Follow-Up Sent Distribution\n",
        "print(df['Follow_Up_Sent'].value_counts())\n",
        "\n",
        "# Reminder Type Distribution\n",
        "print(df[['Reminder_SMS', 'Reminder_Email', 'Reminder_None']].sum())\n"
      ],
      "metadata": {
        "colab": {
          "base_uri": "https://localhost:8080/"
        },
        "id": "wndAk7I1Fz5e",
        "outputId": "ce98f6d2-ebcc-446d-eeb6-f97e1dc6e775"
      },
      "execution_count": 78,
      "outputs": [
        {
          "output_type": "stream",
          "name": "stdout",
          "text": [
            "Gender\n",
            "0    55151\n",
            "1    54849\n",
            "Name: count, dtype: int64\n",
            "No_show\n",
            "0    55088\n",
            "1    54912\n",
            "Name: count, dtype: int64\n",
            "Follow_Up_Sent\n",
            "1    77037\n",
            "0    32963\n",
            "Name: count, dtype: int64\n",
            "Reminder_SMS      38588\n",
            "Reminder_Email    38449\n",
            "Reminder_None     32963\n",
            "dtype: int64\n"
          ]
        }
      ]
    },
    {
      "cell_type": "markdown",
      "source": [
        "Gender Distribution Plot"
      ],
      "metadata": {
        "id": "ZWpvmAtZGseK"
      }
    },
    {
      "cell_type": "code",
      "source": [
        "import matplotlib.pyplot as plt\n",
        "\n",
        "# Gender Distribution\n",
        "gender_counts = df['Gender'].value_counts()\n",
        "\n",
        "# Plot\n",
        "plt.figure(figsize=(6,4))\n",
        "bars = gender_counts.plot(kind='bar')\n",
        "\n",
        "# Set titles and labels\n",
        "plt.title('Gender Distribution')\n",
        "plt.xticks(ticks=[0,1], labels=['Female', 'Male'], rotation=0)\n",
        "plt.xlabel('Gender')\n",
        "plt.ylabel('Number of Patients')\n",
        "\n",
        "# Add value labels on top of each bar\n",
        "for index, value in enumerate(gender_counts):\n",
        "    plt.text(index, value + 500, str(value), ha='center', fontsize=10)\n",
        "\n",
        "plt.show()\n"
      ],
      "metadata": {
        "colab": {
          "base_uri": "https://localhost:8080/",
          "height": 410
        },
        "id": "tTMRPHJGHTHM",
        "outputId": "91cf4115-8e3c-4802-c698-c06a57ae72cf"
      },
      "execution_count": 79,
      "outputs": [
        {
          "output_type": "display_data",
          "data": {
            "text/plain": [
              "<Figure size 600x400 with 1 Axes>"
            ],
            "image/png": "[encoded data removed]"
          },
          "metadata": {}
        }
      ]
    },
    {
      "cell_type": "markdown",
      "source": [
        "No-Show Rate Plot"
      ],
      "metadata": {
        "id": "NjIccjfYIKGb"
      }
    },
    {
      "cell_type": "code",
      "source": [
        "# No-show distribution\n",
        "no_show_counts = df['No_show'].value_counts()\n",
        "\n",
        "# Plot\n",
        "plt.figure(figsize=(6,6))\n",
        "plt.pie(no_show_counts, labels=['Showed Up', 'No-Show'], autopct='%1.1f%%', startangle=90, colors=['skyblue', 'lightcoral'])\n",
        "plt.title('Appointment Show vs No-Show')\n",
        "plt.show()"
      ],
      "metadata": {
        "colab": {
          "base_uri": "https://localhost:8080/",
          "height": 521
        },
        "id": "FOCc_7ajIMH1",
        "outputId": "93a676b6-3d11-4f1f-a1f2-0addf4560066"
      },
      "execution_count": 80,
      "outputs": [
        {
          "output_type": "display_data",
          "data": {
            "text/plain": [
              "<Figure size 600x600 with 1 Axes>"
            ],
            "image/png": "[encoded data removed]"
          },
          "metadata": {}
        }
      ]
    },
    {
      "cell_type": "markdown",
      "source": [
        "Reminder Method Plot"
      ],
      "metadata": {
        "id": "_4WtcwjYJobv"
      }
    },
    {
      "cell_type": "code",
      "source": [
        "# Reminder Method Distribution\n",
        "reminder_counts = {\n",
        "    'SMS': df['Reminder_SMS'].sum(),\n",
        "    'Email': df['Reminder_Email'].sum(),\n",
        "    'None': df['Reminder_None'].sum()\n",
        "}\n",
        "\n",
        "# Plot\n",
        "plt.figure(figsize=(6,4))\n",
        "bars = plt.bar(reminder_counts.keys(), reminder_counts.values(), color=['lightgreen', 'lightblue', 'lightgrey'])\n",
        "plt.title('Reminder Method Distribution')\n",
        "plt.xlabel('Reminder Type')\n",
        "plt.ylabel('Number of Patients')\n",
        "\n",
        "# Add counts on top of bars\n",
        "for bar in bars:\n",
        "    height = bar.get_height()\n",
        "    plt.text(bar.get_x() + bar.get_width()/2, height + 500, str(int(height)), ha='center', fontsize=10)\n",
        "\n",
        "plt.show()\n"
      ],
      "metadata": {
        "colab": {
          "base_uri": "https://localhost:8080/",
          "height": 410
        },
        "id": "2HPtVAcdJ_nv",
        "outputId": "e6a54e4e-8a7f-452a-8318-d24b9d1b119d"
      },
      "execution_count": 81,
      "outputs": [
        {
          "output_type": "display_data",
          "data": {
            "text/plain": [
              "<Figure size 600x400 with 1 Axes>"
            ],
            "image/png": "[encoded data removed]"
          },
          "metadata": {}
        }
      ]
    },
    {
      "cell_type": "markdown",
      "source": [
        "Age Distribution"
      ],
      "metadata": {
        "id": "ccHHUaQAMljZ"
      }
    },
    {
      "cell_type": "code",
      "source": [
        "# Age Distribution\n",
        "plt.figure(figsize=(8,5))\n",
        "plt.hist(df['Age'], bins=20, color='skyblue', edgecolor='black')\n",
        "plt.title('Age Distribution of Patients')\n",
        "plt.xlabel('Age')\n",
        "plt.ylabel('Number of Patients')\n",
        "plt.grid(axis='y', linestyle='--', alpha=0.7)\n",
        "plt.show()"
      ],
      "metadata": {
        "colab": {
          "base_uri": "https://localhost:8080/",
          "height": 487
        },
        "id": "4l951gfsMmKw",
        "outputId": "be2395b5-139a-4795-9557-2325d64c168d"
      },
      "execution_count": 82,
      "outputs": [
        {
          "output_type": "display_data",
          "data": {
            "text/plain": [
              "<Figure size 800x500 with 1 Axes>"
            ],
            "image/png": "[encoded data removed]"
          },
          "metadata": {}
        }
      ]
    },
    {
      "cell_type": "markdown",
      "source": [
        "Waiting Time Distribution"
      ],
      "metadata": {
        "id": "Sf3uhPPTNswP"
      }
    },
    {
      "cell_type": "markdown",
      "source": [
        "First, we need to create a \"Waiting Days\" column\n",
        "(Waiting Days = Appointment Day - Scheduled Day)\n",
        "\n"
      ],
      "metadata": {
        "id": "K2FSJQ2INyVX"
      }
    },
    {
      "cell_type": "code",
      "source": [
        "df['ScheduledDay'] = pd.to_datetime(df['ScheduledDay'])\n",
        "df['AppointmentDay'] = pd.to_datetime(df['AppointmentDay'])\n",
        "\n",
        "# Create Waiting_Days column\n",
        "df['Waiting_Days'] = (df['AppointmentDay'] - df['ScheduledDay']).dt.days"
      ],
      "metadata": {
        "id": "k_QeWaofNtew"
      },
      "execution_count": 83,
      "outputs": []
    },
    {
      "cell_type": "code",
      "source": [
        "# Waiting Days Distribution\n",
        "plt.figure(figsize=(8,5))\n",
        "plt.hist(df['Waiting_Days'], bins=30, color='lightcoral', edgecolor='black')\n",
        "plt.title('Waiting Days Distribution')\n",
        "plt.xlabel('Waiting Days')\n",
        "plt.ylabel('Number of Patients')\n",
        "plt.grid(axis='y', linestyle='--', alpha=0.7)\n",
        "plt.show()"
      ],
      "metadata": {
        "colab": {
          "base_uri": "https://localhost:8080/",
          "height": 487
        },
        "id": "XSwoe8aPOBdP",
        "outputId": "6cbffe26-a449-4e98-f48a-13b9263a1d26"
      },
      "execution_count": 84,
      "outputs": [
        {
          "output_type": "display_data",
          "data": {
            "text/plain": [
              "<Figure size 800x500 with 1 Axes>"
            ],
            "image/png": "[encoded data removed]"
          },
          "metadata": {}
        }
      ]
    },
    {
      "cell_type": "markdown",
      "source": [
        "Waiting_Days = 1 for almost all patients,So plotting Waiting Days will show just one bar at 1 day. Therefore, We don’t waste time on this plot."
      ],
      "metadata": {
        "id": "pHTsJpdbOaXB"
      }
    },
    {
      "cell_type": "code",
      "source": [
        "# Drop Waiting_Days column if not useful\n",
        "df = df.drop('Waiting_Days', axis=1)"
      ],
      "metadata": {
        "id": "-t6gfTVYOsy8"
      },
      "execution_count": 85,
      "outputs": []
    },
    {
      "cell_type": "markdown",
      "source": [
        "No-show Rate by Age Group"
      ],
      "metadata": {
        "id": "KKKnDM93O_fV"
      }
    },
    {
      "cell_type": "markdown",
      "source": [
        "We’ll check which Age Group has the highest No-Show rate"
      ],
      "metadata": {
        "id": "eb9xnczFPD4O"
      }
    },
    {
      "cell_type": "code",
      "source": [
        "# Create Age Groups\n",
        "bins = [0, 18, 35, 50, 65, 100]\n",
        "labels = ['0-18', '19-35', '36-50', '51-65', '66+']\n",
        "df['Age_Group'] = pd.cut(df['Age'], bins=bins, labels=labels)"
      ],
      "metadata": {
        "id": "_I_ktGp2PAJQ"
      },
      "execution_count": 86,
      "outputs": []
    },
    {
      "cell_type": "code",
      "source": [
        "# Calculate No-show rate per Age Group\n",
        "no_show_by_age = df.groupby('Age_Group')['No_show'].mean()\n",
        "\n",
        "# Plot\n",
        "plt.figure(figsize=(8,5))\n",
        "bars = no_show_by_age.plot(kind='bar', color='mediumpurple', edgecolor='black')\n",
        "plt.title('No-show Rate by Age Group')\n",
        "plt.xlabel('Age Group')\n",
        "plt.ylabel('No-show Rate')\n",
        "plt.ylim(0, 1)\n",
        "plt.grid(axis='y', linestyle='--', alpha=0.7)\n",
        "\n",
        "# Add value labels on top of bars\n",
        "for index, value in enumerate(no_show_by_age):\n",
        "    plt.text(index, value + 0.02, f\"{value:.2f}\", ha='center', fontsize=10)\n",
        "\n",
        "plt.show()"
      ],
      "metadata": {
        "colab": {
          "base_uri": "https://localhost:8080/",
          "height": 569
        },
        "id": "igJbGsgEPncc",
        "outputId": "0f22f665-70f7-495d-fd0b-adf277cb80de"
      },
      "execution_count": 87,
      "outputs": [
        {
          "output_type": "stream",
          "name": "stderr",
          "text": [
            "<ipython-input-87-47020841a408>:2: FutureWarning: The default of observed=False is deprecated and will be changed to True in a future version of pandas. Pass observed=False to retain current behavior or observed=True to adopt the future default and silence this warning.\n",
            "  no_show_by_age = df.groupby('Age_Group')['No_show'].mean()\n"
          ]
        },
        {
          "output_type": "display_data",
          "data": {
            "text/plain": [
              "<Figure size 800x500 with 1 Axes>"
            ],
            "image/png": "[encoded data removed]"
          },
          "metadata": {}
        }
      ]
    },
    {
      "cell_type": "markdown",
      "source": [
        "No major difference between younger and older patients"
      ],
      "metadata": {
        "id": "zozHVSnSQLY-"
      }
    },
    {
      "cell_type": "code",
      "source": [
        "# Drop Age_Group column if not useful\n",
        "df = df.drop('Age_Group', axis=1)"
      ],
      "metadata": {
        "id": "tZ8VerGjQTDU"
      },
      "execution_count": 88,
      "outputs": []
    },
    {
      "cell_type": "markdown",
      "source": [
        "Follow-Up Completion Rate by Reminder Type Plot"
      ],
      "metadata": {
        "id": "Kmpit8rrQgmz"
      }
    },
    {
      "cell_type": "code",
      "source": [
        "# Check combination counts\n",
        "print(df.groupby(['Follow_Up_Sent', 'Reminder_Method']).size())"
      ],
      "metadata": {
        "colab": {
          "base_uri": "https://localhost:8080/"
        },
        "id": "LzmYjTGIV91B",
        "outputId": "92aa57fc-8d56-4263-8120-5fc87a58eaba"
      },
      "execution_count": 89,
      "outputs": [
        {
          "output_type": "stream",
          "name": "stdout",
          "text": [
            "Follow_Up_Sent  Reminder_Method\n",
            "0               None               32963\n",
            "1               Email              38449\n",
            "                SMS                38588\n",
            "dtype: int64\n"
          ]
        }
      ]
    },
    {
      "cell_type": "code",
      "source": [
        "# Only patients where follow-up was sent\n",
        "followup_data = df[df['Follow_Up_Sent'] == 1]\n",
        "\n",
        "# Group by Reminder_Method and calculate Follow-Up Completion Rate\n",
        "followup_completion_rate = followup_data.groupby('Reminder_Method')['Follow_Up_Completed'].mean()\n",
        "\n",
        "# Show results\n",
        "print(followup_completion_rate)\n"
      ],
      "metadata": {
        "colab": {
          "base_uri": "https://localhost:8080/"
        },
        "id": "P1ks3lmIWW0P",
        "outputId": "81f31694-aaaf-4ea2-9f1b-b5d614832e8c"
      },
      "execution_count": 90,
      "outputs": [
        {
          "output_type": "stream",
          "name": "stdout",
          "text": [
            "Reminder_Method\n",
            "Email    0.601290\n",
            "SMS      0.599461\n",
            "Name: Follow_Up_Completed, dtype: float64\n"
          ]
        }
      ]
    },
    {
      "cell_type": "code",
      "source": [
        "# Plot\n",
        "plt.figure(figsize=(6,4))\n",
        "bars = followup_completion_rate.plot(kind='bar', color=['mediumseagreen', 'cornflowerblue'], edgecolor='black')\n",
        "plt.title('Follow-Up Completion Rate by Reminder Method')\n",
        "plt.xlabel('Reminder Method')\n",
        "plt.ylabel('Completion Rate')\n",
        "plt.ylim(0, 1)\n",
        "plt.grid(axis='y', linestyle='--', alpha=0.7)\n",
        "\n",
        "# Add labels\n",
        "for index, value in enumerate(followup_completion_rate):\n",
        "    plt.text(index, value + 0.02, f\"{value:.2f}\", ha='center', fontsize=10)\n",
        "\n",
        "plt.show()"
      ],
      "metadata": {
        "colab": {
          "base_uri": "https://localhost:8080/",
          "height": 435
        },
        "id": "N6EWMdG1Wi3r",
        "outputId": "3f98420e-40ac-4dbd-d366-4a92b3a0b8f8"
      },
      "execution_count": 91,
      "outputs": [
        {
          "output_type": "display_data",
          "data": {
            "text/plain": [
              "<Figure size 600x400 with 1 Axes>"
            ],
            "image/png": "[encoded data removed]"
          },
          "metadata": {}
        }
      ]
    },
    {
      "cell_type": "markdown",
      "source": [
        "Follow-Up Completion Rate for SMS and Email reminders were approximately equal (~60%), so no significant difference was observed"
      ],
      "metadata": {
        "id": "14KUaQyZYc45"
      }
    },
    {
      "cell_type": "markdown",
      "source": [
        "##KPI Metrics"
      ],
      "metadata": {
        "id": "7lwk7_XTYi62"
      }
    },
    {
      "cell_type": "markdown",
      "source": [
        "1)Appointment No-Show Rate"
      ],
      "metadata": {
        "id": "AdEmL7SVacoW"
      }
    },
    {
      "cell_type": "code",
      "source": [
        "# Calculate Appointment No-Show Rate\n",
        "no_show_rate = df['No_show'].mean()\n",
        "\n",
        "# Print result\n",
        "print(f\"Appointment No-Show Rate: {no_show_rate:.2%}\")"
      ],
      "metadata": {
        "colab": {
          "base_uri": "https://localhost:8080/"
        },
        "id": "_eHMNrSiaX8q",
        "outputId": "e0c0e35e-2e09-4cda-c21f-da4e3bf29d2f"
      },
      "execution_count": 92,
      "outputs": [
        {
          "output_type": "stream",
          "name": "stdout",
          "text": [
            "Appointment No-Show Rate: 49.92%\n"
          ]
        }
      ]
    },
    {
      "cell_type": "markdown",
      "source": [
        "2)Appointment Completion Rate"
      ],
      "metadata": {
        "id": "3TtpvqDEayNq"
      }
    },
    {
      "cell_type": "code",
      "source": [
        "# Calculate Appointment Completion Rate\n",
        "completion_rate = 1 - no_show_rate\n",
        "\n",
        "# Print result\n",
        "print(f\"Appointment Completion Rate: {completion_rate:.2%}\")"
      ],
      "metadata": {
        "colab": {
          "base_uri": "https://localhost:8080/"
        },
        "id": "sfNrwV68azTi",
        "outputId": "e9cc9d40-0563-4e78-a3cc-8e5b07aaa71b"
      },
      "execution_count": 93,
      "outputs": [
        {
          "output_type": "stream",
          "name": "stdout",
          "text": [
            "Appointment Completion Rate: 50.08%\n"
          ]
        }
      ]
    },
    {
      "cell_type": "markdown",
      "source": [
        "3)Follow-Up Sent Rate"
      ],
      "metadata": {
        "id": "tFqzkQ2bbB4q"
      }
    },
    {
      "cell_type": "markdown",
      "source": [
        "This gives what % of all patients were sent a follow-up survey/reminder after their appointment."
      ],
      "metadata": {
        "id": "15viPCWZcksq"
      }
    },
    {
      "cell_type": "code",
      "source": [
        "# Calculate Follow-Up Sent Rate\n",
        "follow_up_sent_rate = (df['Follow_Up_Sent'] == 1).mean()\n",
        "\n",
        "# Print result\n",
        "print(f\"Follow-Up Sent Rate: {follow_up_sent_rate:.2%}\")"
      ],
      "metadata": {
        "colab": {
          "base_uri": "https://localhost:8080/"
        },
        "id": "c4n-mL7rbDOg",
        "outputId": "44d66515-5633-4706-fe9b-258dba905787"
      },
      "execution_count": 94,
      "outputs": [
        {
          "output_type": "stream",
          "name": "stdout",
          "text": [
            "Follow-Up Sent Rate: 70.03%\n"
          ]
        }
      ]
    },
    {
      "cell_type": "markdown",
      "source": [
        "4)Follow-Up Completion Rate"
      ],
      "metadata": {
        "id": "qYO3KEdYbTfX"
      }
    },
    {
      "cell_type": "markdown",
      "source": [
        "This gives whether patients actually complete the follow-up"
      ],
      "metadata": {
        "id": "54Az7NMic4Pa"
      }
    },
    {
      "cell_type": "code",
      "source": [
        "# Only consider rows where Follow-Up was sent\n",
        "followup_data = df[df['Follow_Up_Sent'] == 1]\n",
        "\n",
        "# Calculate Follow-Up Completion Rate\n",
        "follow_up_completion_rate = followup_data['Follow_Up_Completed'].mean()\n",
        "\n",
        "# Print result\n",
        "print(f\"Follow-Up Completion Rate: {follow_up_completion_rate:.2%}\")"
      ],
      "metadata": {
        "colab": {
          "base_uri": "https://localhost:8080/"
        },
        "id": "h5CT8gZFbVE9",
        "outputId": "6c9d7316-bff7-4f5d-ddf3-7d79923a7f58"
      },
      "execution_count": 95,
      "outputs": [
        {
          "output_type": "stream",
          "name": "stdout",
          "text": [
            "Follow-Up Completion Rate: 60.04%\n"
          ]
        }
      ]
    },
    {
      "cell_type": "markdown",
      "source": [
        "5)Appointments per Neighborhood\n"
      ],
      "metadata": {
        "id": "C2X1m0nre4Dv"
      }
    },
    {
      "cell_type": "code",
      "source": [
        "# Appointments per Neighborhood\n",
        "appointments_per_neighborhood = df['Neighbourhood'].value_counts()\n",
        "print(appointments_per_neighborhood.head())"
      ],
      "metadata": {
        "colab": {
          "base_uri": "https://localhost:8080/"
        },
        "id": "Ly8NMr41e6Sy",
        "outputId": "4075f0a9-38f0-4a85-e94e-d57dbcbd8bc2"
      },
      "execution_count": 96,
      "outputs": [
        {
          "output_type": "stream",
          "name": "stdout",
          "text": [
            "Neighbourhood\n",
            "Neighborhood_B    36791\n",
            "Neighborhood_A    36619\n",
            "Neighborhood_C    36590\n",
            "Name: count, dtype: int64\n"
          ]
        }
      ]
    },
    {
      "cell_type": "markdown",
      "source": [
        "6)Follow-Up Survey Burden"
      ],
      "metadata": {
        "id": "IpJaaMC-fRHg"
      }
    },
    {
      "cell_type": "markdown",
      "source": [
        "This measures how many follow-ups are still pending — sent but not completed."
      ],
      "metadata": {
        "id": "5Hn2ul4zfR05"
      }
    },
    {
      "cell_type": "code",
      "source": [
        "# Only consider rows where Follow-Up was sent\n",
        "followup_data = df[df['Follow_Up_Sent'] == 1]\n",
        "\n",
        "# Calculate Follow-Up Burden (pending follow-ups)\n",
        "follow_up_burden = (followup_data['Follow_Up_Completed'] == 0).mean()\n",
        "\n",
        "# Print result\n",
        "print(f\"Follow-Up Survey Burden: {follow_up_burden:.2%}\")"
      ],
      "metadata": {
        "colab": {
          "base_uri": "https://localhost:8080/"
        },
        "id": "vp9FwPsSfXNc",
        "outputId": "8f6ef389-ad45-4258-ed4b-b81dfdeb31e6"
      },
      "execution_count": 97,
      "outputs": [
        {
          "output_type": "stream",
          "name": "stdout",
          "text": [
            "Follow-Up Survey Burden: 39.96%\n"
          ]
        }
      ]
    },
    {
      "cell_type": "markdown",
      "source": [
        "7)Appointments Over Time (Monthly)"
      ],
      "metadata": {
        "id": "Cn7yK6KUfum9"
      }
    },
    {
      "cell_type": "code",
      "source": [
        "# First, create a new column for Appointment Month\n",
        "df['Appointment_Month'] = df['AppointmentDay'].dt.to_period('M')\n",
        "\n",
        "# Group and count appointments by month\n",
        "appointments_over_time = df['Appointment_Month'].value_counts().sort_index()\n",
        "\n",
        "# Plot\n",
        "plt.figure(figsize=(10,5))\n",
        "appointments_over_time.plot(kind='line', marker='o')\n",
        "plt.title('Appointments Over Time (Monthly)')\n",
        "plt.xlabel('Month')\n",
        "plt.ylabel('Number of Appointments')\n",
        "plt.grid(axis='y', linestyle='--', alpha=0.7)\n",
        "plt.xticks(rotation=45)\n",
        "plt.show()"
      ],
      "metadata": {
        "colab": {
          "base_uri": "https://localhost:8080/",
          "height": 519
        },
        "id": "kTGdNrujfvSS",
        "outputId": "9eb5230e-63c3-4236-eee3-41ea763292e9"
      },
      "execution_count": 98,
      "outputs": [
        {
          "output_type": "display_data",
          "data": {
            "text/plain": [
              "<Figure size 1000x500 with 1 Axes>"
            ],
            "image/png": "[encoded data removed]"
          },
          "metadata": {}
        }
      ]
    },
    {
      "cell_type": "markdown",
      "source": [
        "8) No-Show Trend Over Time"
      ],
      "metadata": {
        "id": "QCY4wBM1hJQ8"
      }
    },
    {
      "cell_type": "markdown",
      "source": [
        "This will show how the No-Show % changed each month — not just total appointments"
      ],
      "metadata": {
        "id": "M3MCwunGhN1R"
      }
    },
    {
      "cell_type": "code",
      "source": [
        "# Create a new Month column\n",
        "df['Appointment_Month'] = df['AppointmentDay'].dt.to_period('M')\n",
        "\n",
        "# Group by month and calculate No-Show Rate per month\n",
        "no_show_trend = df.groupby('Appointment_Month')['No_show'].mean()\n",
        "\n",
        "# Convert PeriodIndex to string for better labeling\n",
        "no_show_trend.index = no_show_trend.index.astype(str)\n",
        "\n",
        "# Plot\n",
        "plt.figure(figsize=(12,6))\n",
        "no_show_trend.plot(kind='line', marker='o', color='crimson')\n",
        "plt.title('No-Show Rate Trend Over Time', fontsize=14)\n",
        "plt.xlabel('Month', fontsize=12)\n",
        "plt.ylabel('No-Show Rate', fontsize=12)\n",
        "plt.ylim(0, 1)  # Since No-Show Rate is 0-1\n",
        "plt.xticks(rotation=45, ha='right')\n",
        "plt.grid(axis='y', linestyle='--', alpha=0.7)\n",
        "plt.tight_layout()\n",
        "plt.show()"
      ],
      "metadata": {
        "colab": {
          "base_uri": "https://localhost:8080/",
          "height": 512
        },
        "id": "jn1fvma6hJ2t",
        "outputId": "c06ad010-a494-4a5d-f58e-88bb4c72e751"
      },
      "execution_count": 99,
      "outputs": [
        {
          "output_type": "display_data",
          "data": {
            "text/plain": [
              "<Figure size 1200x600 with 1 Axes>"
            ],
            "image/png": "[encoded data removed]"
          },
          "metadata": {}
        }
      ]
    },
    {
      "cell_type": "markdown",
      "source": [
        "The no-show rate remained consistently around 50% across the first quarter of 2022 (January to March). No significant upward or downward trend was observed."
      ],
      "metadata": {
        "id": "Qb2dPPLhh2sF"
      }
    },
    {
      "cell_type": "markdown",
      "source": [
        "##Code to save for Tableau"
      ],
      "metadata": {
        "id": "ckSLgQMCmbD-"
      }
    },
    {
      "cell_type": "code",
      "source": [
        "# Save full cleaned appointment data\n",
        "df.to_csv('appointment_data.csv', index=False)\n",
        "\n",
        "# Prepare monthly aggregate for trend graphs\n",
        "monthly_data = df.groupby('Appointment_Month').agg({\n",
        "    'No_show': 'mean',\n",
        "    'Patient_ID': 'count'\n",
        "}).reset_index()\n",
        "\n",
        "monthly_data.columns = ['Appointment_Month', 'No_Show_Rate', 'Total_Appointments']\n",
        "\n",
        "# Save monthly data\n",
        "monthly_data.to_csv('monthly_aggregates.csv', index=False)"
      ],
      "metadata": {
        "id": "GleFUoHimbqH"
      },
      "execution_count": 100,
      "outputs": []
    },
    {
      "cell_type": "markdown",
      "source": [
        "##AUTOMATE THE CODE"
      ],
      "metadata": {
        "id": "Jn3836mdG3DR"
      }
    },
    {
      "cell_type": "code",
      "source": [
        "import pandas as pd\n",
        "\n",
        "df = pd.read_csv('telehealth_operations_dataset.csv')\n",
        "print(df.columns.tolist())"
      ],
      "metadata": {
        "colab": {
          "base_uri": "https://localhost:8080/"
        },
        "id": "4GW2hkmAG0at",
        "outputId": "34943617-747b-4114-e1ac-c0f436a9c162"
      },
      "execution_count": 105,
      "outputs": [
        {
          "output_type": "stream",
          "name": "stdout",
          "text": [
            "['Patient_ID', 'Gender', 'ScheduledDay', 'AppointmentDay', 'Age', 'Neighbourhood', 'Scholarship', 'Hipertension', 'Diabetes', 'Alcoholism', 'SMS_received', 'No_show', 'Follow_Up_Sent', 'Reminder_Method', 'Follow_Up_Completed']\n"
          ]
        }
      ]
    },
    {
      "cell_type": "code",
      "source": [
        "!python telehealth_automation.py"
      ],
      "metadata": {
        "colab": {
          "base_uri": "https://localhost:8080/"
        },
        "id": "Gw_vio8cGlXv",
        "outputId": "93882e4d-a18b-4e23-c1ea-f157b72f0cac"
      },
      "execution_count": 106,
      "outputs": [
        {
          "output_type": "stream",
          "name": "stdout",
          "text": [
            "✅ Cleaned appointment_data.csv saved.\n",
            "✅ monthly_aggregates.csv saved.\n",
            "🎯 Full automation from raw to Tableau-ready files completed!\n"
          ]
        }
      ]
    },
    {
      "cell_type": "markdown",
      "source": [
        "Automated the entire data preparation process using Python."
      ],
      "metadata": {
        "id": "m7Qko6QKTtzw"
      }
    },
    {
      "cell_type": "markdown",
      "source": [
        "##Build a Streamlit App"
      ],
      "metadata": {
        "id": "dd9Kkbj5JEjU"
      }
    },
    {
      "cell_type": "code",
      "source": [
        "!pip install streamlit"
      ],
      "metadata": {
        "colab": {
          "base_uri": "https://localhost:8080/"
        },
        "id": "wlc7jKT5JFGL",
        "outputId": "45f36c3a-149f-4d5a-bb1e-d6aae7065bef"
      },
      "execution_count": 107,
      "outputs": [
        {
          "output_type": "stream",
          "name": "stdout",
          "text": [
            "Collecting streamlit\n",
            "  Downloading streamlit-1.44.1-py3-none-any.whl.metadata (8.9 kB)\n",
            "Requirement already satisfied: altair<6,>=4.0 in /usr/local/lib/python3.11/dist-packages (from streamlit) (5.5.0)\n",
            "Requirement already satisfied: blinker<2,>=1.0.0 in /usr/local/lib/python3.11/dist-packages (from streamlit) (1.9.0)\n",
            "Requirement already satisfied: cachetools<6,>=4.0 in /usr/local/lib/python3.11/dist-packages (from streamlit) (5.5.2)\n",
            "Requirement already satisfied: click<9,>=7.0 in /usr/local/lib/python3.11/dist-packages (from streamlit) (8.1.8)\n",
            "Requirement already satisfied: numpy<3,>=1.23 in /usr/local/lib/python3.11/dist-packages (from streamlit) (2.0.2)\n",
            "Requirement already satisfied: packaging<25,>=20 in /usr/local/lib/python3.11/dist-packages (from streamlit) (24.2)\n",
            "Requirement already satisfied: pandas<3,>=1.4.0 in /usr/local/lib/python3.11/dist-packages (from streamlit) (2.2.2)\n",
            "Requirement already satisfied: pillow<12,>=7.1.0 in /usr/local/lib/python3.11/dist-packages (from streamlit) (11.1.0)\n",
            "Requirement already satisfied: protobuf<6,>=3.20 in /usr/local/lib/python3.11/dist-packages (from streamlit) (5.29.4)\n",
            "Requirement already satisfied: pyarrow>=7.0 in /usr/local/lib/python3.11/dist-packages (from streamlit) (18.1.0)\n",
            "Requirement already satisfied: requests<3,>=2.27 in /usr/local/lib/python3.11/dist-packages (from streamlit) (2.32.3)\n",
            "Requirement already satisfied: tenacity<10,>=8.1.0 in /usr/local/lib/python3.11/dist-packages (from streamlit) (9.1.2)\n",
            "Requirement already satisfied: toml<2,>=0.10.1 in /usr/local/lib/python3.11/dist-packages (from streamlit) (0.10.2)\n",
            "Requirement already satisfied: typing-extensions<5,>=4.4.0 in /usr/local/lib/python3.11/dist-packages (from streamlit) (4.13.2)\n",
            "Collecting watchdog<7,>=2.1.5 (from streamlit)\n",
            "  Downloading watchdog-6.0.0-py3-none-manylinux2014_x86_64.whl.metadata (44 kB)\n",
            "\u001b[2K     \u001b[90m━━━━━━━━━━━━━━━━━━━━━━━━━━━━━━━━━━━━━━━━\u001b[0m \u001b[32m44.3/44.3 kB\u001b[0m \u001b[31m1.8 MB/s\u001b[0m eta \u001b[36m0:00:00\u001b[0m\n",
            "\u001b[?25hRequirement already satisfied: gitpython!=3.1.19,<4,>=3.0.7 in /usr/local/lib/python3.11/dist-packages (from streamlit) (3.1.44)\n",
            "Collecting pydeck<1,>=0.8.0b4 (from streamlit)\n",
            "  Downloading pydeck-0.9.1-py2.py3-none-any.whl.metadata (4.1 kB)\n",
            "Requirement already satisfied: tornado<7,>=6.0.3 in /usr/local/lib/python3.11/dist-packages (from streamlit) (6.4.2)\n",
            "Requirement already satisfied: jinja2 in /usr/local/lib/python3.11/dist-packages (from altair<6,>=4.0->streamlit) (3.1.6)\n",
            "Requirement already satisfied: jsonschema>=3.0 in /usr/local/lib/python3.11/dist-packages (from altair<6,>=4.0->streamlit) (4.23.0)\n",
            "Requirement already satisfied: narwhals>=1.14.2 in /usr/local/lib/python3.11/dist-packages (from altair<6,>=4.0->streamlit) (1.35.0)\n",
            "Requirement already satisfied: gitdb<5,>=4.0.1 in /usr/local/lib/python3.11/dist-packages (from gitpython!=3.1.19,<4,>=3.0.7->streamlit) (4.0.12)\n",
            "Requirement already satisfied: python-dateutil>=2.8.2 in /usr/local/lib/python3.11/dist-packages (from pandas<3,>=1.4.0->streamlit) (2.8.2)\n",
            "Requirement already satisfied: pytz>=2020.1 in /usr/local/lib/python3.11/dist-packages (from pandas<3,>=1.4.0->streamlit) (2025.2)\n",
            "Requirement already satisfied: tzdata>=2022.7 in /usr/local/lib/python3.11/dist-packages (from pandas<3,>=1.4.0->streamlit) (2025.2)\n",
            "Requirement already satisfied: charset-normalizer<4,>=2 in /usr/local/lib/python3.11/dist-packages (from requests<3,>=2.27->streamlit) (3.4.1)\n",
            "Requirement already satisfied: idna<4,>=2.5 in /usr/local/lib/python3.11/dist-packages (from requests<3,>=2.27->streamlit) (3.10)\n",
            "Requirement already satisfied: urllib3<3,>=1.21.1 in /usr/local/lib/python3.11/dist-packages (from requests<3,>=2.27->streamlit) (2.3.0)\n",
            "Requirement already satisfied: certifi>=2017.4.17 in /usr/local/lib/python3.11/dist-packages (from requests<3,>=2.27->streamlit) (2025.1.31)\n",
            "Requirement already satisfied: smmap<6,>=3.0.1 in /usr/local/lib/python3.11/dist-packages (from gitdb<5,>=4.0.1->gitpython!=3.1.19,<4,>=3.0.7->streamlit) (5.0.2)\n",
            "Requirement already satisfied: MarkupSafe>=2.0 in /usr/local/lib/python3.11/dist-packages (from jinja2->altair<6,>=4.0->streamlit) (3.0.2)\n",
            "Requirement already satisfied: attrs>=22.2.0 in /usr/local/lib/python3.11/dist-packages (from jsonschema>=3.0->altair<6,>=4.0->streamlit) (25.3.0)\n",
            "Requirement already satisfied: jsonschema-specifications>=2023.03.6 in /usr/local/lib/python3.11/dist-packages (from jsonschema>=3.0->altair<6,>=4.0->streamlit) (2024.10.1)\n",
            "Requirement already satisfied: referencing>=0.28.4 in /usr/local/lib/python3.11/dist-packages (from jsonschema>=3.0->altair<6,>=4.0->streamlit) (0.36.2)\n",
            "Requirement already satisfied: rpds-py>=0.7.1 in /usr/local/lib/python3.11/dist-packages (from jsonschema>=3.0->altair<6,>=4.0->streamlit) (0.24.0)\n",
            "Requirement already satisfied: six>=1.5 in /usr/local/lib/python3.11/dist-packages (from python-dateutil>=2.8.2->pandas<3,>=1.4.0->streamlit) (1.17.0)\n",
            "Downloading streamlit-1.44.1-py3-none-any.whl (9.8 MB)\n",
            "\u001b[2K   \u001b[90m━━━━━━━━━━━━━━━━━━━━━━━━━━━━━━━━━━━━━━━━\u001b[0m \u001b[32m9.8/9.8 MB\u001b[0m \u001b[31m61.2 MB/s\u001b[0m eta \u001b[36m0:00:00\u001b[0m\n",
            "\u001b[?25hDownloading pydeck-0.9.1-py2.py3-none-any.whl (6.9 MB)\n",
            "\u001b[2K   \u001b[90m━━━━━━━━━━━━━━━━━━━━━━━━━━━━━━━━━━━━━━━━\u001b[0m \u001b[32m6.9/6.9 MB\u001b[0m \u001b[31m107.4 MB/s\u001b[0m eta \u001b[36m0:00:00\u001b[0m\n",
            "\u001b[?25hDownloading watchdog-6.0.0-py3-none-manylinux2014_x86_64.whl (79 kB)\n",
            "\u001b[2K   \u001b[90m━━━━━━━━━━━━━━━━━━━━━━━━━━━━━━━━━━━━━━━━\u001b[0m \u001b[32m79.1/79.1 kB\u001b[0m \u001b[31m9.3 MB/s\u001b[0m eta \u001b[36m0:00:00\u001b[0m\n",
            "\u001b[?25hInstalling collected packages: watchdog, pydeck, streamlit\n",
            "Successfully installed pydeck-0.9.1 streamlit-1.44.1 watchdog-6.0.0\n"
          ]
        }
      ]
    },
    {
      "cell_type": "code",
      "source": [
        "!pip install pyngrok"
      ],
      "metadata": {
        "colab": {
          "base_uri": "https://localhost:8080/"
        },
        "id": "4k94JbRnJ33p",
        "outputId": "8027ed2b-0e9e-413b-e98c-2393e756b54a"
      },
      "execution_count": 110,
      "outputs": [
        {
          "output_type": "stream",
          "name": "stdout",
          "text": [
            "Requirement already satisfied: pyngrok in /usr/local/lib/python3.11/dist-packages (7.2.4)\n",
            "Requirement already satisfied: PyYAML>=5.1 in /usr/local/lib/python3.11/dist-packages (from pyngrok) (6.0.2)\n"
          ]
        }
      ]
    },
    {
      "cell_type": "code",
      "source": [
        "from pyngrok import ngrok\n",
        "ngrok.set_auth_token(\"2vuiDTrq0nK5DXu6zCcEfQTgGdO_6YdSnt9t8dLAkcSrpdGvQ\")"
      ],
      "metadata": {
        "id": "ys--5FBtL10K"
      },
      "execution_count": 114,
      "outputs": []
    },
    {
      "cell_type": "code",
      "source": [
        "!streamlit run telehealth_dashboard_app.py &>/dev/null&\n",
        "public_url = ngrok.connect(addr=\"8501\", proto=\"http\")\n",
        "public_url\n"
      ],
      "metadata": {
        "colab": {
          "base_uri": "https://localhost:8080/"
        },
        "id": "6Cd91CSmMET9",
        "outputId": "fa563970-e83d-4341-f146-85a0b3d77156"
      },
      "execution_count": 123,
      "outputs": [
        {
          "output_type": "execute_result",
          "data": {
            "text/plain": [
              "<NgrokTunnel: \"https://fb09-34-106-190-81.ngrok-free.app\" -> \"http://localhost:8501\">"
            ]
          },
          "metadata": {},
          "execution_count": 123
        }
      ]
    },
    {
      "cell_type": "markdown",
      "source": [
        "Developed an interactive dashboard to upload data and view KPIs dynamically"
      ],
      "metadata": {
        "id": "qj6LhbnzT5T4"
      }
    },
    {
      "cell_type": "markdown",
      "source": [
        "##Forecasting and Prediction"
      ],
      "metadata": {
        "id": "eka_S6_SOcUR"
      }
    },
    {
      "cell_type": "code",
      "source": [
        "import pandas as pd\n",
        "\n",
        "data = pd.read_csv('monthly_aggregates.csv')\n",
        "print(data.columns.tolist())"
      ],
      "metadata": {
        "colab": {
          "base_uri": "https://localhost:8080/"
        },
        "id": "U8UkRmPQPDeJ",
        "outputId": "d1927399-7bac-4770-895b-fa1bb3795c67"
      },
      "execution_count": 118,
      "outputs": [
        {
          "output_type": "stream",
          "name": "stdout",
          "text": [
            "['Appointment_Month', 'Total_Appointments', 'No_Show_Rate']\n"
          ]
        }
      ]
    },
    {
      "cell_type": "code",
      "source": [
        "# Forecasting Telehealth Appointments and No-Show Rates\n",
        "\n",
        "import pandas as pd\n",
        "from sklearn.linear_model import LinearRegression\n",
        "import numpy as np\n",
        "\n",
        "# Step 1: Load your monthly aggregate dataset\n",
        "data = pd.read_csv('monthly_aggregates.csv')\n",
        "\n",
        "# Step 2: Prepare the data\n",
        "# Convert month names to simple numbers (January=1, February=2, etc.)\n",
        "data['Month_Num'] = pd.to_datetime(data['Appointment_Month']).dt.month\n",
        "\n",
        "# Features (X) and Targets (Y)\n",
        "X = data[['Month_Num']]\n",
        "y_appointments = data['Total_Appointments']\n",
        "y_noshow = data['No_Show_Rate']\n",
        "\n",
        "# Step 3: Fit Linear Regression Models\n",
        "model_appointments = LinearRegression()\n",
        "model_noshow = LinearRegression()\n",
        "\n",
        "model_appointments.fit(X, y_appointments)\n",
        "model_noshow.fit(X, y_noshow)\n",
        "\n",
        "# Step 4: Predict for April (4) and May (5)\n",
        "future_months = pd.DataFrame({'Month_Num': [4, 5]})\n",
        "\n",
        "future_appointments = model_appointments.predict(future_months)\n",
        "future_noshow = model_noshow.predict(future_months)\n",
        "\n",
        "# Step 5: Show Results\n",
        "forecast = pd.DataFrame({\n",
        "    'Month': ['April 2022', 'May 2022'],\n",
        "    'Predicted Appointments': np.round(future_appointments).astype(int),\n",
        "    'Predicted No-Show Rate (%)': np.round(future_noshow * 100, 2)\n",
        "})\n",
        "\n",
        "print(forecast)\n"
      ],
      "metadata": {
        "colab": {
          "base_uri": "https://localhost:8080/"
        },
        "id": "RPDEl64bOeeX",
        "outputId": "3db2d035-1a3b-42b0-8db6-84285a878f66"
      },
      "execution_count": 122,
      "outputs": [
        {
          "output_type": "stream",
          "name": "stdout",
          "text": [
            "        Month  Predicted Appointments  Predicted No-Show Rate (%)\n",
            "0  April 2022                   17067                       49.13\n",
            "1    May 2022                    7267                       48.77\n"
          ]
        }
      ]
    },
    {
      "cell_type": "markdown",
      "source": [
        "Used Linear Regression to forecast future appointment volumes and no-show rates for April and May 2022."
      ],
      "metadata": {
        "id": "z6n8O-JXT9x4"
      }
    },
    {
      "cell_type": "markdown",
      "source": [
        "## ✅ Conclusion\n",
        "\n",
        "Through this project, telehealth operational performance can now be monitored and forecasted dynamically. This solution enables faster decision-making, reduces manual reporting, and allows stakeholders to predict future appointment challenges in advance.\n"
      ],
      "metadata": {
        "id": "Gt68QonKUV_X"
      }
    }
  ]
}